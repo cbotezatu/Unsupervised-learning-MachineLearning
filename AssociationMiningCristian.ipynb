{
 "cells": [
  {
   "cell_type": "code",
   "execution_count": 1,
   "metadata": {},
   "outputs": [
    {
     "name": "stdout",
     "output_type": "stream",
     "text": [
      "/Users/BotezatuCristian/Desktop/ML_project2/Tools\n"
     ]
    }
   ],
   "source": [
    "cd ~/Desktop/ML_project2/Tools"
   ]
  },
  {
   "cell_type": "code",
   "execution_count": 2,
   "metadata": {},
   "outputs": [],
   "source": [
    "import seaborn as sns\n",
    "import pandas as pd\n",
    "import matplotlib.pyplot as plt\n",
    "sns.set(style=\"whitegrid\", palette=\"muted\")\n",
    "current_palette = sns.color_palette()\n",
    "from scipy.io import loadmat\n",
    "import scipy.linalg as linalg\n",
    "import numpy as np\n",
    "from scipy.stats import norm\n",
    "from sklearn import tree\n",
    "import graphviz\n",
    "import sklearn.linear_model as lm\n",
    "from sklearn.neighbors import KNeighborsClassifier\n",
    "from sklearn.metrics import confusion_matrix\n",
    "from sklearn import model_selection\n",
    "from scipy import stats\n",
    "import sys\n",
    "sys.path.insert(0,'..\\\\02450Toolbox_Python\\\\Tools')\n",
    "sys.path.insert(0,'..\\\\02450Toolbox_Python\\\\Scripts')\n",
    "import similarity\n",
    "import writeapriorifile"
   ]
  },
  {
   "cell_type": "code",
   "execution_count": 3,
   "metadata": {},
   "outputs": [
    {
     "name": "stdout",
     "output_type": "stream",
     "text": [
      "/Users/BotezatuCristian/Desktop/ML_project2\n"
     ]
    }
   ],
   "source": [
    "cd ~/Desktop/ML_project2"
   ]
  },
  {
   "cell_type": "code",
   "execution_count": 4,
   "metadata": {},
   "outputs": [],
   "source": [
    "df = pd.read_excel('DataSet.xlsx')\n",
    "sub_df = df[['hum', 'temp', 'windspeed', 'atemp','Date']]\n",
    "sub_df = pd.concat([ df['new'].astype(np.float64), sub_df], axis=1)\n",
    "sub_df = pd.concat([ df['registered'].astype(np.float64), sub_df], axis=1)\n",
    "sub_df = pd.concat([ df['total'].astype(np.float64), sub_df], axis=1)\n",
    "for i in ('new', 'registered', 'total'):\n",
    "    sub_df[i] = (((sub_df[i] - sub_df[i].mean()) / sub_df[i].std()).abs())"
   ]
  },
  {
   "cell_type": "code",
   "execution_count": 5,
   "metadata": {},
   "outputs": [
    {
     "name": "stderr",
     "output_type": "stream",
     "text": [
      "/anaconda3/lib/python3.6/site-packages/ipykernel_launcher.py:5: FutureWarning: Method .as_matrix will be removed in a future version. Use .values instead.\n",
      "  \"\"\"\n"
     ]
    },
    {
     "data": {
      "text/plain": [
       "array([[ 1.73607061,  1.90353016, -0.00813447, ..., -0.4573892 ,\n",
       "        -0.29378273, -0.36843775],\n",
       "       [ 1.90093654,  1.88601082,  0.43956952, ..., -0.44135622,\n",
       "         0.04102407, -0.38595851],\n",
       "       [ 1.4099228 ,  1.27392895,  0.46419324, ..., -0.58010279,\n",
       "         0.04014993, -0.67720433],\n",
       "       ...,\n",
       "       [ 1.41709088,  1.32539201,  0.37689096, ..., -0.53280422,\n",
       "        -0.43084399,  1.97045458],\n",
       "       [ 1.00940611,  1.05165235, -0.08200563, ..., -0.53072859,\n",
       "         0.42950304,  1.83876435],\n",
       "       [ 0.17342833,  0.11217786, -0.24989463, ..., -0.56393864,\n",
       "        -0.31506613, -0.61680149]])"
      ]
     },
     "execution_count": 5,
     "metadata": {},
     "output_type": "execute_result"
    }
   ],
   "source": [
    "countryNames = list(sub_df['Date'])\n",
    "l = list(sub_df.columns)\n",
    "attributesToShow = l[0:-1]\n",
    "N = len(df)\n",
    "X = sub_df.as_matrix(columns = attributesToShow)\n",
    "std = np.std(X, axis=0)\n",
    "std = np.expand_dims(std,axis=0)\n",
    "\n",
    "X = X/std\n",
    "# Subtract mean value from data\n",
    "X = X - np.ones((len(X),1))*X.mean(0)\n",
    "X"
   ]
  },
  {
   "cell_type": "code",
   "execution_count": 6,
   "metadata": {},
   "outputs": [],
   "source": [
    "X_bin,attributesToShow_bin = similarity.binarize2(X,attributesToShow)"
   ]
  },
  {
   "cell_type": "code",
   "execution_count": 7,
   "metadata": {},
   "outputs": [
    {
     "data": {
      "text/plain": [
       "['total 50th-100th percentile',\n",
       " 'registered 50th-100th percentile',\n",
       " 'new 50th-100th percentile',\n",
       " 'hum 50th-100th percentile',\n",
       " 'temp 50th-100th percentile',\n",
       " 'windspeed 50th-100th percentile',\n",
       " 'atemp 50th-100th percentile',\n",
       " 'total 0th-50th percentile',\n",
       " 'registered 0th-50th percentile',\n",
       " 'new 0th-50th percentile',\n",
       " 'hum 0th-50th percentile',\n",
       " 'temp 0th-50th percentile',\n",
       " 'windspeed 0th-50th percentile',\n",
       " 'atemp 0th-50th percentile']"
      ]
     },
     "execution_count": 7,
     "metadata": {},
     "output_type": "execute_result"
    }
   ],
   "source": [
    "attributesToShow_bin"
   ]
  },
  {
   "cell_type": "markdown",
   "metadata": {},
   "source": [
    "# Association Mining"
   ]
  },
  {
   "cell_type": "code",
   "execution_count": 12,
   "metadata": {},
   "outputs": [
    {
     "name": "stdout",
     "output_type": "stream",
     "text": [
      "{atemp} -> {temp}  (supp: 0.416, conf: 0.833)\n",
      "{new} -> {total}  (supp: 0.304, conf: 0.608)\n",
      "{registered} -> {total}  (supp: 0.427, conf: 0.855)\n"
     ]
    },
    {
     "data": {
      "text/plain": [
       "[('atemp', 'temp'), ('new', 'total'), ('registered', 'total')]"
      ]
     },
     "execution_count": 12,
     "metadata": {},
     "output_type": "execute_result"
    }
   ],
   "source": [
    "from apyori import apriori\n",
    "import numpy as np\n",
    "labels = [\"total\", \"registered\", \"new\", \"hum\", \"temp\", \"windspeed\", \"atemp\"]\n",
    "def mat2transactions(X, labels=[]):\n",
    "    T = []\n",
    "    for i in range(X.shape[0]):\n",
    "        l = np.nonzero(X[i, :])[0].tolist()\n",
    "        if labels:\n",
    "            l = [labels[i] for i in l]\n",
    "        T.append(l)\n",
    "    return T\n",
    "\n",
    "# apyori requires data to be in a transactions format, forunately we just wrote a helper function to do that.\n",
    "T = mat2transactions(X,labels)\n",
    "rules = apriori( T, min_support=0.3, min_confidence=0.6)\n",
    "\n",
    "def print_apriori_rules(rules):\n",
    "    frules = []\n",
    "    for r in rules:\n",
    "        conf = r.ordered_statistics[0].confidence\n",
    "        supp = r.support\n",
    "        x = \", \".join( list( r.ordered_statistics[0].items_base ) )\n",
    "        y = \", \".join( list( r.ordered_statistics[0].items_add ) )\n",
    "        print(\"{%s} -> {%s}  (supp: %.3f, conf: %.3f)\"%(x,y, supp, conf))\n",
    "        frules.append( (x,y) )\n",
    "    return frules\n",
    "# Print rules found in the courses file.\n",
    "print_apriori_rules(rules)"
   ]
  },
  {
   "cell_type": "code",
   "execution_count": 13,
   "metadata": {},
   "outputs": [
    {
     "name": "stdout",
     "output_type": "stream",
     "text": [
      "{atemp 0th-50th percentile} -> {new 50th-100th percentile}  (supp: 0.319, conf: 0.637)\n",
      "{atemp 0th-50th percentile} -> {temp 0th-50th percentile}  (supp: 0.419, conf: 0.836)\n",
      "{atemp 50th-100th percentile} -> {new 0th-50th percentile}  (supp: 0.319, conf: 0.638)\n",
      "{atemp 50th-100th percentile} -> {temp 50th-100th percentile}  (supp: 0.416, conf: 0.833)\n",
      "{new 0th-50th percentile} -> {temp 50th-100th percentile}  (supp: 0.305, conf: 0.609)\n",
      "{new 0th-50th percentile} -> {total 0th-50th percentile}  (supp: 0.305, conf: 0.609)\n",
      "{new 50th-100th percentile} -> {temp 0th-50th percentile}  (supp: 0.306, conf: 0.614)\n",
      "{new 50th-100th percentile} -> {total 50th-100th percentile}  (supp: 0.304, conf: 0.608)\n",
      "{registered 0th-50th percentile} -> {total 0th-50th percentile}  (supp: 0.428, conf: 0.855)\n",
      "{registered 50th-100th percentile} -> {total 50th-100th percentile}  (supp: 0.427, conf: 0.855)\n"
     ]
    },
    {
     "data": {
      "text/plain": [
       "[('atemp 0th-50th percentile', 'new 50th-100th percentile'),\n",
       " ('atemp 0th-50th percentile', 'temp 0th-50th percentile'),\n",
       " ('atemp 50th-100th percentile', 'new 0th-50th percentile'),\n",
       " ('atemp 50th-100th percentile', 'temp 50th-100th percentile'),\n",
       " ('new 0th-50th percentile', 'temp 50th-100th percentile'),\n",
       " ('new 0th-50th percentile', 'total 0th-50th percentile'),\n",
       " ('new 50th-100th percentile', 'temp 0th-50th percentile'),\n",
       " ('new 50th-100th percentile', 'total 50th-100th percentile'),\n",
       " ('registered 0th-50th percentile', 'total 0th-50th percentile'),\n",
       " ('registered 50th-100th percentile', 'total 50th-100th percentile')]"
      ]
     },
     "execution_count": 13,
     "metadata": {},
     "output_type": "execute_result"
    }
   ],
   "source": [
    "T = mat2transactions(X_bin,labels=attributesToShow_bin)\n",
    "rules = apriori(T, min_support=0.3, min_confidence=0.6)\n",
    "print_apriori_rules(rules)"
   ]
  },
  {
   "cell_type": "code",
   "execution_count": null,
   "metadata": {},
   "outputs": [],
   "source": []
  }
 ],
 "metadata": {
  "kernelspec": {
   "display_name": "Python 3",
   "language": "python",
   "name": "python3"
  },
  "language_info": {
   "codemirror_mode": {
    "name": "ipython",
    "version": 3
   },
   "file_extension": ".py",
   "mimetype": "text/x-python",
   "name": "python",
   "nbconvert_exporter": "python",
   "pygments_lexer": "ipython3",
   "version": "3.6.5"
  }
 },
 "nbformat": 4,
 "nbformat_minor": 2
}
